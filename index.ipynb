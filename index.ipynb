{
 "cells": [
  {
   "cell_type": "code",
   "execution_count": null,
   "metadata": {},
   "outputs": [],
   "source": [
    "## 初始化变量\n",
    "import os\n",
    "import subprocess\n",
    "import json\n",
    "\n",
    "sub_modules = (\"CDDA-Schema\",\"CDDA-Event\",\"CDDA-CustomMedia\",\"CDDA-Enchantment\",\"CDDA-SmartNPC\",\"CDDA-CustomNPC\")"
   ]
  },
  {
   "cell_type": "code",
   "execution_count": null,
   "metadata": {},
   "outputs": [],
   "source": [
    "## 全部编译\n",
    "\n",
    "# 读取主目录下的 package.json 和 package-lock.json\n",
    "with open('package.json', 'r') as f:\n",
    "    package = json.load(f)\n",
    "with open('package-lock.json', 'r') as f:\n",
    "    package_lock = json.load(f)\n",
    "\n",
    "# 遍历子模块\n",
    "for module in sub_modules:\n",
    "    # 编译指令\n",
    "    print(subprocess.check_output(f\"npm run compile --prefix {module}\", shell=True).decode())\n",
    "    # 读取子模块的 package.json 和 package-lock.json\n",
    "    with open(os.path.join(module, 'package.json'), 'r+', encoding=\"utf-8\") as f1, open(os.path.join(module, 'package-lock.json'), 'r+', encoding=\"utf-8\") as f2:\n",
    "        submodule_package = json.load(f1)\n",
    "        submodule_package_lock = json.load(f2)\n",
    "\n",
    "        # 将 dependencies 写入子模块的 package.json 和 package-lock.json\n",
    "        submodule_package['dependencies'] = package.get('dependencies', {})\n",
    "        submodule_package_lock['dependencies'] = package_lock.get('dependencies', {})\n",
    "        submodule_package_lock['packages'] = package_lock.get('packages', {})\n",
    "\n",
    "        # 将文件指针移动到文件开头，然后清空文件\n",
    "        f1.seek(0); f1.truncate(); f2.seek(0); f2.truncate()\n",
    "\n",
    "        # 保存子模块的 package.json 和 package-lock.json\n",
    "        json.dump(submodule_package, f1, indent=2, ensure_ascii=False)\n",
    "        json.dump(submodule_package_lock, f2, indent=2, ensure_ascii=False)\n",
    "\n"
   ]
  },
  {
   "cell_type": "code",
   "execution_count": null,
   "metadata": {},
   "outputs": [],
   "source": [
    "## 建立链接\n",
    "# 获取当前ipynb文件的路径\n",
    "notebook_path = os.path.dirname(os.path.realpath('__file__'))\n",
    "source_path = os.path.join(notebook_path, \"node_modules\")\n",
    "for module in sub_modules:\n",
    "    target_path = f\"{module}\\\\node_modules\"\n",
    "    if not os.path.exists(target_path):\n",
    "        print(subprocess.check_output(f'mklink /D \"{module}\\\\node_modules\" \"{source_path}\"', shell=True).decode('gbk'))"
   ]
  }
 ],
 "metadata": {
  "kernelspec": {
   "display_name": "Python 3",
   "language": "python",
   "name": "python3"
  },
  "language_info": {
   "codemirror_mode": {
    "name": "ipython",
    "version": 3
   },
   "file_extension": ".py",
   "mimetype": "text/x-python",
   "name": "python",
   "nbconvert_exporter": "python",
   "pygments_lexer": "ipython3",
   "version": "3.9.13"
  }
 },
 "nbformat": 4,
 "nbformat_minor": 2
}
